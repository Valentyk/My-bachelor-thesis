{
 "cells": [
  {
   "cell_type": "code",
   "execution_count": 378,
   "metadata": {},
   "outputs": [],
   "source": [
    "from sympy import *\n",
    "init_printing(use_unicode=True)\n",
    "from sympy.abc import phi, theta, zeta"
   ]
  },
  {
   "cell_type": "code",
   "execution_count": 379,
   "metadata": {},
   "outputs": [],
   "source": [
    "X = Matrix([[cos(phi),0,0,sin(phi)],\n",
    "           [0,1,0,0],\n",
    "           [0,0,1,0],\n",
    "           [-sin(-phi),0,0,cos(phi)]])\n",
    "\n",
    "Y = Matrix([[1,0,0,0],\n",
    "           [0,cos(theta),0,sin(theta)],\n",
    "           [0,0,1,0],\n",
    "           [0, -sin(theta), 0, cos(theta)]])\n",
    "\n",
    "Z = Matrix([[1,0,0,0],\n",
    "           [0,1,0,0],\n",
    "           [0,0,cos(zeta),sin(zeta)],\n",
    "           [0,0,-sin(zeta),cos(zeta)]])"
   ]
  },
  {
   "cell_type": "code",
   "execution_count": 380,
   "metadata": {},
   "outputs": [
    {
     "data": {
      "text/latex": [
       "$\\displaystyle \\left[\\begin{matrix}\\cos{\\left(\\phi \\right)} & 0 & 0 & \\sin{\\left(\\phi \\right)}\\\\\\sin{\\left(\\phi \\right)} \\sin{\\left(\\theta \\right)} & \\cos{\\left(\\theta \\right)} & 0 & \\sin{\\left(\\theta \\right)} \\cos{\\left(\\phi \\right)}\\\\\\sin{\\left(\\phi \\right)} \\sin{\\left(\\zeta \\right)} \\cos{\\left(\\theta \\right)} & - \\sin{\\left(\\theta \\right)} \\sin{\\left(\\zeta \\right)} & \\cos{\\left(\\zeta \\right)} & \\sin{\\left(\\zeta \\right)} \\cos{\\left(\\phi \\right)} \\cos{\\left(\\theta \\right)}\\\\\\sin{\\left(\\phi \\right)} \\cos{\\left(\\theta \\right)} \\cos{\\left(\\zeta \\right)} & - \\sin{\\left(\\theta \\right)} \\cos{\\left(\\zeta \\right)} & - \\sin{\\left(\\zeta \\right)} & \\cos{\\left(\\phi \\right)} \\cos{\\left(\\theta \\right)} \\cos{\\left(\\zeta \\right)}\\end{matrix}\\right]$"
      ],
      "text/plain": [
       "⎡       cos(φ)               0            0            sin(φ)       ⎤\n",
       "⎢                                                                   ⎥\n",
       "⎢   sin(φ)⋅sin(θ)          cos(θ)         0        sin(θ)⋅cos(φ)    ⎥\n",
       "⎢                                                                   ⎥\n",
       "⎢sin(φ)⋅sin(ζ)⋅cos(θ)  -sin(θ)⋅sin(ζ)  cos(ζ)   sin(ζ)⋅cos(φ)⋅cos(θ)⎥\n",
       "⎢                                                                   ⎥\n",
       "⎣sin(φ)⋅cos(θ)⋅cos(ζ)  -sin(θ)⋅cos(ζ)  -sin(ζ)  cos(φ)⋅cos(θ)⋅cos(ζ)⎦"
      ]
     },
     "execution_count": 380,
     "metadata": {},
     "output_type": "execute_result"
    }
   ],
   "source": [
    "Z*Y*X"
   ]
  },
  {
   "cell_type": "markdown",
   "metadata": {},
   "source": [
    "# Rotace komplexní matice"
   ]
  },
  {
   "cell_type": "code",
   "execution_count": null,
   "metadata": {},
   "outputs": [],
   "source": []
  },
  {
   "cell_type": "markdown",
   "metadata": {},
   "source": [
    "# Vektorová pole akcí"
   ]
  },
  {
   "cell_type": "code",
   "execution_count": 381,
   "metadata": {},
   "outputs": [],
   "source": [
    "from sympy.abc import t, a, b"
   ]
  },
  {
   "cell_type": "code",
   "execution_count": 382,
   "metadata": {},
   "outputs": [],
   "source": [
    "t = -t"
   ]
  },
  {
   "cell_type": "code",
   "execution_count": 383,
   "metadata": {},
   "outputs": [],
   "source": [
    "M = Matrix([[a, b],\n",
    "            [-conjugate(b), conjugate(a)]])\n",
    "\n",
    "W_z = Matrix([[exp(I*(t/2)), 0],\n",
    "             [0, exp(-I*(t/2))]])\n",
    "\n",
    "W_x = Matrix([[cos(t/2), I*sin(t/2)],\n",
    "             [I*sin(t/2), cos(t/2)]])\n",
    "\n",
    "W_y = Matrix([[cos(t/2), sin(t/2)],\n",
    "             [-sin(t/2), cos(t/2)]])"
   ]
  },
  {
   "cell_type": "code",
   "execution_count": 384,
   "metadata": {},
   "outputs": [
    {
     "data": {
      "text/latex": [
       "$\\displaystyle \\left[\\begin{matrix}e^{- \\frac{i t}{2}} & 0\\\\0 & e^{\\frac{i t}{2}}\\end{matrix}\\right]$"
      ],
      "text/plain": [
       "⎡ -ⅈ⋅t       ⎤\n",
       "⎢ ─────      ⎥\n",
       "⎢   2        ⎥\n",
       "⎢ℯ        0  ⎥\n",
       "⎢            ⎥\n",
       "⎢         ⅈ⋅t⎥\n",
       "⎢         ───⎥\n",
       "⎢          2 ⎥\n",
       "⎣  0     ℯ   ⎦"
      ]
     },
     "execution_count": 384,
     "metadata": {},
     "output_type": "execute_result"
    }
   ],
   "source": [
    "W_z"
   ]
  },
  {
   "cell_type": "code",
   "execution_count": 385,
   "metadata": {},
   "outputs": [
    {
     "data": {
      "text/latex": [
       "$\\displaystyle \\left( \\left[\\begin{matrix}a e^{- \\frac{i t}{2}} & b e^{- \\frac{i t}{2}}\\\\- e^{\\frac{i t}{2}} \\overline{b} & e^{\\frac{i t}{2}} \\overline{a}\\end{matrix}\\right], \\  - t\\right)$"
      ],
      "text/plain": [
       "⎛⎡   -ⅈ⋅t      -ⅈ⋅t ⎤    ⎞\n",
       "⎜⎢   ─────     ─────⎥    ⎟\n",
       "⎜⎢     2         2  ⎥    ⎟\n",
       "⎜⎢a⋅ℯ       b⋅ℯ     ⎥    ⎟\n",
       "⎜⎢                  ⎥, -t⎟\n",
       "⎜⎢  ⅈ⋅t       ⅈ⋅t   ⎥    ⎟\n",
       "⎜⎢  ───       ───   ⎥    ⎟\n",
       "⎜⎢   2  _      2  _ ⎥    ⎟\n",
       "⎝⎣-ℯ   ⋅b    ℯ   ⋅a ⎦    ⎠"
      ]
     },
     "execution_count": 385,
     "metadata": {},
     "output_type": "execute_result"
    }
   ],
   "source": [
    "W_z*M,t"
   ]
  },
  {
   "cell_type": "code",
   "execution_count": 386,
   "metadata": {},
   "outputs": [
    {
     "data": {
      "text/latex": [
       "$\\displaystyle \\left[\\begin{matrix}a \\cos{\\left(\\frac{t}{2} \\right)} + i \\sin{\\left(\\frac{t}{2} \\right)} \\overline{b} & b \\cos{\\left(\\frac{t}{2} \\right)} - i \\sin{\\left(\\frac{t}{2} \\right)} \\overline{a}\\\\- i a \\sin{\\left(\\frac{t}{2} \\right)} - \\cos{\\left(\\frac{t}{2} \\right)} \\overline{b} & - i b \\sin{\\left(\\frac{t}{2} \\right)} + \\cos{\\left(\\frac{t}{2} \\right)} \\overline{a}\\end{matrix}\\right]$"
      ],
      "text/plain": [
       "⎡      ⎛t⎞        ⎛t⎞ _         ⎛t⎞        ⎛t⎞ _ ⎤\n",
       "⎢ a⋅cos⎜─⎟ + ⅈ⋅sin⎜─⎟⋅b    b⋅cos⎜─⎟ - ⅈ⋅sin⎜─⎟⋅a ⎥\n",
       "⎢      ⎝2⎠        ⎝2⎠           ⎝2⎠        ⎝2⎠   ⎥\n",
       "⎢                                                ⎥\n",
       "⎢         ⎛t⎞      ⎛t⎞ _           ⎛t⎞      ⎛t⎞ _⎥\n",
       "⎢- ⅈ⋅a⋅sin⎜─⎟ - cos⎜─⎟⋅b  - ⅈ⋅b⋅sin⎜─⎟ + cos⎜─⎟⋅a⎥\n",
       "⎣         ⎝2⎠      ⎝2⎠             ⎝2⎠      ⎝2⎠  ⎦"
      ]
     },
     "execution_count": 386,
     "metadata": {},
     "output_type": "execute_result"
    }
   ],
   "source": [
    "W_x*M"
   ]
  },
  {
   "cell_type": "code",
   "execution_count": 387,
   "metadata": {},
   "outputs": [
    {
     "data": {
      "text/latex": [
       "$\\displaystyle \\left[\\begin{matrix}a \\cos{\\left(\\frac{t}{2} \\right)} + \\sin{\\left(\\frac{t}{2} \\right)} \\overline{b} & b \\cos{\\left(\\frac{t}{2} \\right)} - \\sin{\\left(\\frac{t}{2} \\right)} \\overline{a}\\\\a \\sin{\\left(\\frac{t}{2} \\right)} - \\cos{\\left(\\frac{t}{2} \\right)} \\overline{b} & b \\sin{\\left(\\frac{t}{2} \\right)} + \\cos{\\left(\\frac{t}{2} \\right)} \\overline{a}\\end{matrix}\\right]$"
      ],
      "text/plain": [
       "⎡     ⎛t⎞      ⎛t⎞ _       ⎛t⎞      ⎛t⎞ _⎤\n",
       "⎢a⋅cos⎜─⎟ + sin⎜─⎟⋅b  b⋅cos⎜─⎟ - sin⎜─⎟⋅a⎥\n",
       "⎢     ⎝2⎠      ⎝2⎠         ⎝2⎠      ⎝2⎠  ⎥\n",
       "⎢                                        ⎥\n",
       "⎢     ⎛t⎞      ⎛t⎞ _       ⎛t⎞      ⎛t⎞ _⎥\n",
       "⎢a⋅sin⎜─⎟ - cos⎜─⎟⋅b  b⋅sin⎜─⎟ + cos⎜─⎟⋅a⎥\n",
       "⎣     ⎝2⎠      ⎝2⎠         ⎝2⎠      ⎝2⎠  ⎦"
      ]
     },
     "execution_count": 387,
     "metadata": {},
     "output_type": "execute_result"
    }
   ],
   "source": [
    "W_y*M"
   ]
  },
  {
   "cell_type": "code",
   "execution_count": 388,
   "metadata": {},
   "outputs": [],
   "source": [
    "t = -t"
   ]
  },
  {
   "cell_type": "code",
   "execution_count": 389,
   "metadata": {},
   "outputs": [
    {
     "data": {
      "text/latex": [
       "$\\displaystyle \\left[\\begin{matrix}- \\frac{i a e^{- \\frac{i t}{2}}}{2} & - \\frac{i b e^{- \\frac{i t}{2}}}{2}\\\\- \\frac{i e^{\\frac{i t}{2}} \\overline{b}}{2} & \\frac{i e^{\\frac{i t}{2}} \\overline{a}}{2}\\end{matrix}\\right]$"
      ],
      "text/plain": [
       "⎡      -ⅈ⋅t          -ⅈ⋅t  ⎤\n",
       "⎢      ─────         ───── ⎥\n",
       "⎢        2             2   ⎥\n",
       "⎢-ⅈ⋅a⋅ℯ        -ⅈ⋅b⋅ℯ      ⎥\n",
       "⎢────────────  ────────────⎥\n",
       "⎢     2             2      ⎥\n",
       "⎢                          ⎥\n",
       "⎢     ⅈ⋅t           ⅈ⋅t    ⎥\n",
       "⎢     ───           ───    ⎥\n",
       "⎢      2  _          2  _  ⎥\n",
       "⎢ -ⅈ⋅ℯ   ⋅b      ⅈ⋅ℯ   ⋅a  ⎥\n",
       "⎢ ──────────     ────────  ⎥\n",
       "⎣     2             2      ⎦"
      ]
     },
     "execution_count": 389,
     "metadata": {},
     "output_type": "execute_result"
    }
   ],
   "source": [
    "diff(W_z*M,t)"
   ]
  },
  {
   "cell_type": "code",
   "execution_count": 390,
   "metadata": {},
   "outputs": [
    {
     "data": {
      "text/latex": [
       "$\\displaystyle \\left[\\begin{matrix}- \\frac{a \\sin{\\left(\\frac{t}{2} \\right)}}{2} + \\frac{i \\cos{\\left(\\frac{t}{2} \\right)} \\overline{b}}{2} & - \\frac{b \\sin{\\left(\\frac{t}{2} \\right)}}{2} - \\frac{i \\cos{\\left(\\frac{t}{2} \\right)} \\overline{a}}{2}\\\\- \\frac{i a \\cos{\\left(\\frac{t}{2} \\right)}}{2} + \\frac{\\sin{\\left(\\frac{t}{2} \\right)} \\overline{b}}{2} & - \\frac{i b \\cos{\\left(\\frac{t}{2} \\right)}}{2} - \\frac{\\sin{\\left(\\frac{t}{2} \\right)} \\overline{a}}{2}\\end{matrix}\\right]$"
      ],
      "text/plain": [
       "⎡       ⎛t⎞        ⎛t⎞ _         ⎛t⎞        ⎛t⎞ _⎤\n",
       "⎢  a⋅sin⎜─⎟   ⅈ⋅cos⎜─⎟⋅b    b⋅sin⎜─⎟   ⅈ⋅cos⎜─⎟⋅a⎥\n",
       "⎢       ⎝2⎠        ⎝2⎠           ⎝2⎠        ⎝2⎠  ⎥\n",
       "⎢- ──────── + ──────────  - ──────── - ──────────⎥\n",
       "⎢     2           2            2           2     ⎥\n",
       "⎢                                                ⎥\n",
       "⎢         ⎛t⎞      ⎛t⎞ _           ⎛t⎞      ⎛t⎞ _⎥\n",
       "⎢  ⅈ⋅a⋅cos⎜─⎟   sin⎜─⎟⋅b    ⅈ⋅b⋅cos⎜─⎟   sin⎜─⎟⋅a⎥\n",
       "⎢         ⎝2⎠      ⎝2⎠             ⎝2⎠      ⎝2⎠  ⎥\n",
       "⎢- ────────── + ────────  - ────────── - ────────⎥\n",
       "⎣      2           2            2           2    ⎦"
      ]
     },
     "execution_count": 390,
     "metadata": {},
     "output_type": "execute_result"
    }
   ],
   "source": [
    "diff(W_x*M,t)"
   ]
  },
  {
   "cell_type": "code",
   "execution_count": 391,
   "metadata": {},
   "outputs": [
    {
     "data": {
      "text/latex": [
       "$\\displaystyle \\left[\\begin{matrix}- \\frac{a \\sin{\\left(\\frac{t}{2} \\right)}}{2} + \\frac{\\cos{\\left(\\frac{t}{2} \\right)} \\overline{b}}{2} & - \\frac{b \\sin{\\left(\\frac{t}{2} \\right)}}{2} - \\frac{\\cos{\\left(\\frac{t}{2} \\right)} \\overline{a}}{2}\\\\\\frac{a \\cos{\\left(\\frac{t}{2} \\right)}}{2} + \\frac{\\sin{\\left(\\frac{t}{2} \\right)} \\overline{b}}{2} & \\frac{b \\cos{\\left(\\frac{t}{2} \\right)}}{2} - \\frac{\\sin{\\left(\\frac{t}{2} \\right)} \\overline{a}}{2}\\end{matrix}\\right]$"
      ],
      "text/plain": [
       "⎡       ⎛t⎞      ⎛t⎞ _         ⎛t⎞      ⎛t⎞ _⎤\n",
       "⎢  a⋅sin⎜─⎟   cos⎜─⎟⋅b    b⋅sin⎜─⎟   cos⎜─⎟⋅a⎥\n",
       "⎢       ⎝2⎠      ⎝2⎠           ⎝2⎠      ⎝2⎠  ⎥\n",
       "⎢- ──────── + ────────  - ──────── - ────────⎥\n",
       "⎢     2          2           2          2    ⎥\n",
       "⎢                                            ⎥\n",
       "⎢      ⎛t⎞      ⎛t⎞ _         ⎛t⎞      ⎛t⎞ _ ⎥\n",
       "⎢ a⋅cos⎜─⎟   sin⎜─⎟⋅b    b⋅cos⎜─⎟   sin⎜─⎟⋅a ⎥\n",
       "⎢      ⎝2⎠      ⎝2⎠           ⎝2⎠      ⎝2⎠   ⎥\n",
       "⎢ ──────── + ────────    ──────── - ──────── ⎥\n",
       "⎣    2          2           2          2     ⎦"
      ]
     },
     "execution_count": 391,
     "metadata": {},
     "output_type": "execute_result"
    }
   ],
   "source": [
    "diff(W_y*M,t)"
   ]
  },
  {
   "cell_type": "code",
   "execution_count": 392,
   "metadata": {},
   "outputs": [],
   "source": [
    "M = Matrix([[a, b],\n",
    "            [-conjugate(b), conjugate(a)]])\n",
    "\n",
    "W_z = Matrix([[exp(I*(t/2)), 0],\n",
    "             [0, exp(-I*(t/2))]])\n",
    "\n",
    "W_x = Matrix([[cos(t/2), I*sin(t/2)],\n",
    "             [I*sin(t/2), cos(t/2)]])\n",
    "\n",
    "W_y = Matrix([[cos(t/2), sin(t/2)],\n",
    "             [-sin(t/2), cos(t/2)]])"
   ]
  },
  {
   "cell_type": "code",
   "execution_count": 393,
   "metadata": {},
   "outputs": [
    {
     "data": {
      "text/latex": [
       "$\\displaystyle \\left[\\begin{matrix}e^{\\frac{i t}{2}} & 0\\\\0 & e^{- \\frac{i t}{2}}\\end{matrix}\\right]$"
      ],
      "text/plain": [
       "⎡ ⅈ⋅t        ⎤\n",
       "⎢ ───        ⎥\n",
       "⎢  2         ⎥\n",
       "⎢ℯ       0   ⎥\n",
       "⎢            ⎥\n",
       "⎢       -ⅈ⋅t ⎥\n",
       "⎢       ─────⎥\n",
       "⎢         2  ⎥\n",
       "⎣ 0    ℯ     ⎦"
      ]
     },
     "execution_count": 393,
     "metadata": {},
     "output_type": "execute_result"
    }
   ],
   "source": [
    "W_z"
   ]
  },
  {
   "cell_type": "code",
   "execution_count": 394,
   "metadata": {},
   "outputs": [
    {
     "data": {
      "text/latex": [
       "$\\displaystyle \\left[\\begin{matrix}a e^{\\frac{i t}{2}} & b e^{- \\frac{i t}{2}}\\\\- e^{\\frac{i t}{2}} \\overline{b} & e^{- \\frac{i t}{2}} \\overline{a}\\end{matrix}\\right]$"
      ],
      "text/plain": [
       "⎡   ⅈ⋅t      -ⅈ⋅t ⎤\n",
       "⎢   ───      ─────⎥\n",
       "⎢    2         2  ⎥\n",
       "⎢a⋅ℯ      b⋅ℯ     ⎥\n",
       "⎢                 ⎥\n",
       "⎢  ⅈ⋅t     -ⅈ⋅t   ⎥\n",
       "⎢  ───     ─────  ⎥\n",
       "⎢   2  _     2   _⎥\n",
       "⎣-ℯ   ⋅b  ℯ     ⋅a⎦"
      ]
     },
     "execution_count": 394,
     "metadata": {},
     "output_type": "execute_result"
    }
   ],
   "source": [
    "M*W_z"
   ]
  },
  {
   "cell_type": "code",
   "execution_count": 395,
   "metadata": {},
   "outputs": [
    {
     "data": {
      "text/latex": [
       "$\\displaystyle \\left[\\begin{matrix}a \\cos{\\left(\\frac{t}{2} \\right)} + i b \\sin{\\left(\\frac{t}{2} \\right)} & i a \\sin{\\left(\\frac{t}{2} \\right)} + b \\cos{\\left(\\frac{t}{2} \\right)}\\\\i \\sin{\\left(\\frac{t}{2} \\right)} \\overline{a} - \\cos{\\left(\\frac{t}{2} \\right)} \\overline{b} & - i \\sin{\\left(\\frac{t}{2} \\right)} \\overline{b} + \\cos{\\left(\\frac{t}{2} \\right)} \\overline{a}\\end{matrix}\\right]$"
      ],
      "text/plain": [
       "⎡     ⎛t⎞          ⎛t⎞          ⎛t⎞        ⎛t⎞ ⎤\n",
       "⎢a⋅cos⎜─⎟ + ⅈ⋅b⋅sin⎜─⎟   ⅈ⋅a⋅sin⎜─⎟ + b⋅cos⎜─⎟ ⎥\n",
       "⎢     ⎝2⎠          ⎝2⎠          ⎝2⎠        ⎝2⎠ ⎥\n",
       "⎢                                              ⎥\n",
       "⎢     ⎛t⎞ _      ⎛t⎞ _         ⎛t⎞ _      ⎛t⎞ _⎥\n",
       "⎢ⅈ⋅sin⎜─⎟⋅a - cos⎜─⎟⋅b  - ⅈ⋅sin⎜─⎟⋅b + cos⎜─⎟⋅a⎥\n",
       "⎣     ⎝2⎠        ⎝2⎠           ⎝2⎠        ⎝2⎠  ⎦"
      ]
     },
     "execution_count": 395,
     "metadata": {},
     "output_type": "execute_result"
    }
   ],
   "source": [
    "M*W_x"
   ]
  },
  {
   "cell_type": "code",
   "execution_count": 396,
   "metadata": {},
   "outputs": [
    {
     "data": {
      "text/latex": [
       "$\\displaystyle \\left[\\begin{matrix}a \\cos{\\left(\\frac{t}{2} \\right)} - b \\sin{\\left(\\frac{t}{2} \\right)} & a \\sin{\\left(\\frac{t}{2} \\right)} + b \\cos{\\left(\\frac{t}{2} \\right)}\\\\- \\sin{\\left(\\frac{t}{2} \\right)} \\overline{a} - \\cos{\\left(\\frac{t}{2} \\right)} \\overline{b} & - \\sin{\\left(\\frac{t}{2} \\right)} \\overline{b} + \\cos{\\left(\\frac{t}{2} \\right)} \\overline{a}\\end{matrix}\\right]$"
      ],
      "text/plain": [
       "⎡      ⎛t⎞        ⎛t⎞         ⎛t⎞        ⎛t⎞ ⎤\n",
       "⎢ a⋅cos⎜─⎟ - b⋅sin⎜─⎟    a⋅sin⎜─⎟ + b⋅cos⎜─⎟ ⎥\n",
       "⎢      ⎝2⎠        ⎝2⎠         ⎝2⎠        ⎝2⎠ ⎥\n",
       "⎢                                            ⎥\n",
       "⎢     ⎛t⎞ _      ⎛t⎞ _       ⎛t⎞ _      ⎛t⎞ _⎥\n",
       "⎢- sin⎜─⎟⋅a - cos⎜─⎟⋅b  - sin⎜─⎟⋅b + cos⎜─⎟⋅a⎥\n",
       "⎣     ⎝2⎠        ⎝2⎠         ⎝2⎠        ⎝2⎠  ⎦"
      ]
     },
     "execution_count": 396,
     "metadata": {},
     "output_type": "execute_result"
    }
   ],
   "source": [
    "M*W_y"
   ]
  },
  {
   "cell_type": "code",
   "execution_count": 397,
   "metadata": {},
   "outputs": [
    {
     "data": {
      "text/latex": [
       "$\\displaystyle \\left[\\begin{matrix}\\frac{i a e^{\\frac{i t}{2}}}{2} & - \\frac{i b e^{- \\frac{i t}{2}}}{2}\\\\- \\frac{i e^{\\frac{i t}{2}} \\overline{b}}{2} & - \\frac{i e^{- \\frac{i t}{2}} \\overline{a}}{2}\\end{matrix}\\right]$"
      ],
      "text/plain": [
       "⎡      ⅈ⋅t         -ⅈ⋅t  ⎤\n",
       "⎢      ───         ───── ⎥\n",
       "⎢       2            2   ⎥\n",
       "⎢ ⅈ⋅a⋅ℯ      -ⅈ⋅b⋅ℯ      ⎥\n",
       "⎢ ────────   ────────────⎥\n",
       "⎢    2            2      ⎥\n",
       "⎢                        ⎥\n",
       "⎢    ⅈ⋅t         -ⅈ⋅t    ⎥\n",
       "⎢    ───         ─────   ⎥\n",
       "⎢     2  _         2   _ ⎥\n",
       "⎢-ⅈ⋅ℯ   ⋅b   -ⅈ⋅ℯ     ⋅a ⎥\n",
       "⎢──────────  ────────────⎥\n",
       "⎣    2            2      ⎦"
      ]
     },
     "execution_count": 397,
     "metadata": {},
     "output_type": "execute_result"
    }
   ],
   "source": [
    "diff(M*W_z, t)"
   ]
  },
  {
   "cell_type": "code",
   "execution_count": 398,
   "metadata": {},
   "outputs": [
    {
     "data": {
      "text/latex": [
       "$\\displaystyle \\left[\\begin{matrix}- \\frac{a \\sin{\\left(\\frac{t}{2} \\right)}}{2} + \\frac{i b \\cos{\\left(\\frac{t}{2} \\right)}}{2} & \\frac{i a \\cos{\\left(\\frac{t}{2} \\right)}}{2} - \\frac{b \\sin{\\left(\\frac{t}{2} \\right)}}{2}\\\\\\frac{\\sin{\\left(\\frac{t}{2} \\right)} \\overline{b}}{2} + \\frac{i \\cos{\\left(\\frac{t}{2} \\right)} \\overline{a}}{2} & - \\frac{\\sin{\\left(\\frac{t}{2} \\right)} \\overline{a}}{2} - \\frac{i \\cos{\\left(\\frac{t}{2} \\right)} \\overline{b}}{2}\\end{matrix}\\right]$"
      ],
      "text/plain": [
       "⎡       ⎛t⎞          ⎛t⎞          ⎛t⎞        ⎛t⎞ ⎤\n",
       "⎢  a⋅sin⎜─⎟   ⅈ⋅b⋅cos⎜─⎟   ⅈ⋅a⋅cos⎜─⎟   b⋅sin⎜─⎟ ⎥\n",
       "⎢       ⎝2⎠          ⎝2⎠          ⎝2⎠        ⎝2⎠ ⎥\n",
       "⎢- ──────── + ──────────   ────────── - ──────── ⎥\n",
       "⎢     2           2            2           2     ⎥\n",
       "⎢                                                ⎥\n",
       "⎢    ⎛t⎞ _        ⎛t⎞ _        ⎛t⎞ _        ⎛t⎞ _⎥\n",
       "⎢ sin⎜─⎟⋅b   ⅈ⋅cos⎜─⎟⋅a     sin⎜─⎟⋅a   ⅈ⋅cos⎜─⎟⋅b⎥\n",
       "⎢    ⎝2⎠          ⎝2⎠          ⎝2⎠          ⎝2⎠  ⎥\n",
       "⎢ ──────── + ──────────   - ──────── - ──────────⎥\n",
       "⎣    2           2             2           2     ⎦"
      ]
     },
     "execution_count": 398,
     "metadata": {},
     "output_type": "execute_result"
    }
   ],
   "source": [
    "diff(M*W_x, t)"
   ]
  },
  {
   "cell_type": "code",
   "execution_count": 399,
   "metadata": {},
   "outputs": [
    {
     "data": {
      "text/latex": [
       "$\\displaystyle \\left[\\begin{matrix}- \\frac{a \\sin{\\left(\\frac{t}{2} \\right)}}{2} - \\frac{b \\cos{\\left(\\frac{t}{2} \\right)}}{2} & \\frac{a \\cos{\\left(\\frac{t}{2} \\right)}}{2} - \\frac{b \\sin{\\left(\\frac{t}{2} \\right)}}{2}\\\\\\frac{\\sin{\\left(\\frac{t}{2} \\right)} \\overline{b}}{2} - \\frac{\\cos{\\left(\\frac{t}{2} \\right)} \\overline{a}}{2} & - \\frac{\\sin{\\left(\\frac{t}{2} \\right)} \\overline{a}}{2} - \\frac{\\cos{\\left(\\frac{t}{2} \\right)} \\overline{b}}{2}\\end{matrix}\\right]$"
      ],
      "text/plain": [
       "⎡       ⎛t⎞        ⎛t⎞        ⎛t⎞        ⎛t⎞ ⎤\n",
       "⎢  a⋅sin⎜─⎟   b⋅cos⎜─⎟   a⋅cos⎜─⎟   b⋅sin⎜─⎟ ⎥\n",
       "⎢       ⎝2⎠        ⎝2⎠        ⎝2⎠        ⎝2⎠ ⎥\n",
       "⎢- ──────── - ────────   ──────── - ──────── ⎥\n",
       "⎢     2          2          2          2     ⎥\n",
       "⎢                                            ⎥\n",
       "⎢    ⎛t⎞ _      ⎛t⎞ _        ⎛t⎞ _      ⎛t⎞ _⎥\n",
       "⎢ sin⎜─⎟⋅b   cos⎜─⎟⋅a     sin⎜─⎟⋅a   cos⎜─⎟⋅b⎥\n",
       "⎢    ⎝2⎠        ⎝2⎠          ⎝2⎠        ⎝2⎠  ⎥\n",
       "⎢ ──────── - ────────   - ──────── - ────────⎥\n",
       "⎣    2          2            2          2    ⎦"
      ]
     },
     "execution_count": 399,
     "metadata": {},
     "output_type": "execute_result"
    }
   ],
   "source": [
    "diff(M*W_y, t)"
   ]
  },
  {
   "cell_type": "code",
   "execution_count": 403,
   "metadata": {},
   "outputs": [
    {
     "data": {
      "text/latex": [
       "$\\displaystyle \\left[\\begin{matrix}\\frac{e^{\\frac{i t}{2}}}{2} + \\frac{e^{- \\frac{i t}{2}}}{2} & \\frac{e^{\\frac{i t}{2}}}{2} - \\frac{e^{- \\frac{i t}{2}}}{2}\\\\\\frac{e^{\\frac{i t}{2}}}{2} - \\frac{e^{- \\frac{i t}{2}}}{2} & \\frac{e^{\\frac{i t}{2}}}{2} + \\frac{e^{- \\frac{i t}{2}}}{2}\\end{matrix}\\right]$"
      ],
      "text/plain": [
       "⎡ ⅈ⋅t    -ⅈ⋅t    ⅈ⋅t    -ⅈ⋅t ⎤\n",
       "⎢ ───    ─────   ───    ─────⎥\n",
       "⎢  2       2      2       2  ⎥\n",
       "⎢ℯ      ℯ       ℯ      ℯ     ⎥\n",
       "⎢──── + ──────  ──── - ──────⎥\n",
       "⎢ 2       2      2       2   ⎥\n",
       "⎢                            ⎥\n",
       "⎢ ⅈ⋅t    -ⅈ⋅t    ⅈ⋅t    -ⅈ⋅t ⎥\n",
       "⎢ ───    ─────   ───    ─────⎥\n",
       "⎢  2       2      2       2  ⎥\n",
       "⎢ℯ      ℯ       ℯ      ℯ     ⎥\n",
       "⎢──── - ──────  ──── + ──────⎥\n",
       "⎣ 2       2      2       2   ⎦"
      ]
     },
     "execution_count": 403,
     "metadata": {},
     "output_type": "execute_result"
    }
   ],
   "source": [
    "exp(t*Matrix([[0,I/2],[I/2,0]]))"
   ]
  },
  {
   "cell_type": "code",
   "execution_count": null,
   "metadata": {},
   "outputs": [],
   "source": []
  }
 ],
 "metadata": {
  "kernelspec": {
   "display_name": "Python 3",
   "language": "python",
   "name": "python3"
  },
  "language_info": {
   "codemirror_mode": {
    "name": "ipython",
    "version": 3
   },
   "file_extension": ".py",
   "mimetype": "text/x-python",
   "name": "python",
   "nbconvert_exporter": "python",
   "pygments_lexer": "ipython3",
   "version": "3.9.12"
  }
 },
 "nbformat": 4,
 "nbformat_minor": 2
}
