{
 "cells": [
  {
   "cell_type": "code",
   "execution_count": 3,
   "metadata": {
    "collapsed": false
   },
   "outputs": [
   ],
   "source": [
    "p_1 = matrix([[1,0],[0,-1]]) \n",
    "p_2 = matrix([[0,1],[1,0]])\n",
    "p_3 = matrix([[0,i],[-i,0]])\n",
    "p_4 = matrix([[i,0],[0,i]])"
   ]
  },
  {
   "cell_type": "code",
   "execution_count": 23,
   "metadata": {
    "collapsed": false
   },
   "outputs": [
    {
     "data": {
      "text/plain": [
       "func"
      ]
     },
     "execution_count": 23,
     "metadata": {
     },
     "output_type": "execute_result"
    }
   ],
   "source": [
    "var(\"x, y, z, w, varphi\")"
   ]
  },
  {
   "cell_type": "code",
   "execution_count": 5,
   "metadata": {
    "collapsed": false
   },
   "outputs": [
    {
     "data": {
      "text/html": [
       "<html>\\(\\displaystyle \\left(\\begin{array}{rr}\n",
       "i \\, w + x & y + i \\, z \\\\\n",
       "y - i \\, z & i \\, w - x\n",
       "\\end{array}\\right)\\)</html>"
      ],
      "text/latex": [
       "$\\displaystyle \\left(\\begin{array}{rr}\n",
       "i \\, w + x & y + i \\, z \\\\\n",
       "y - i \\, z & i \\, w - x\n",
       "\\end{array}\\right)$"
      ],
      "text/plain": [
       "[I*w + x y + I*z]\n",
       "[y - I*z I*w - x]"
      ]
     },
     "execution_count": 5,
     "metadata": {
     },
     "output_type": "execute_result"
    },
    {
     "data": {
      "text/html": [
       "<html>\\(\\displaystyle \\left(\\begin{array}{rr}\n",
       "x & y + i \\, z \\\\\n",
       "y - i \\, z & -x\n",
       "\\end{array}\\right)\\)</html>"
      ],
      "text/latex": [
       "$\\displaystyle \\left(\\begin{array}{rr}\n",
       "x & y + i \\, z \\\\\n",
       "y - i \\, z & -x\n",
       "\\end{array}\\right)$"
      ],
      "text/plain": [
       "[      x y + I*z]\n",
       "[y - I*z      -x]"
      ]
     },
     "execution_count": 5,
     "metadata": {
     },
     "output_type": "execute_result"
    }
   ],
   "source": [
    "A = x*p_1+y*p_2+z*p_3+w*p_4\n",
    "B = x*p_1+y*p_2+z*p_3\n",
    "\n",
    "pretty_print(A)\n",
    "pretty_print(B)"
   ]
  },
  {
   "cell_type": "code",
   "execution_count": 6,
   "metadata": {
    "collapsed": false
   },
   "outputs": [
    {
     "data": {
      "text/plain": [
       "(I*w + x)*(I*w - x) - (y + I*z)*(y - I*z)"
      ]
     },
     "execution_count": 6,
     "metadata": {
     },
     "output_type": "execute_result"
    }
   ],
   "source": [
    "det(A)"
   ]
  },
  {
   "cell_type": "code",
   "execution_count": 7,
   "metadata": {
    "collapsed": false
   },
   "outputs": [
    {
     "data": {
      "text/plain": [
       "-w^2 - x^2 - y^2 - z^2"
      ]
     },
     "execution_count": 7,
     "metadata": {
     },
     "output_type": "execute_result"
    }
   ],
   "source": [
    "det(A).full_simplify()"
   ]
  },
  {
   "cell_type": "code",
   "execution_count": 8,
   "metadata": {
    "collapsed": false
   },
   "outputs": [
    {
     "data": {
      "text/plain": [
       "-x^2 - y^2 - z^2"
      ]
     },
     "execution_count": 8,
     "metadata": {
     },
     "output_type": "execute_result"
    }
   ],
   "source": [
    "det(B).full_simplify()"
   ]
  },
  {
   "cell_type": "markdown",
   "metadata": {
    "collapsed": false
   },
   "source": [
    "## Rotation matrix\n",
    "\n",
    "Every regular matrix can represent rotation of \\(hyper\\)sphere. To every vector $v = (x,y,z)$ we can assign a matrix $\\mathbf{A} =$ $\\left(\\begin{matrix} z & x + iy \\\\ x - iy & -x \\end{matrix} \\right)$. Detereminant of such a matrix $\\mathbf{A}$ is the norm of the vector $v$ squared. If we constrain us to matrices witch determinant is equal to $1$ we made ourselves a representation of vectors on a unit sphere. If we multiply this \"unite\" \\(spatny nazev\\) matrix $\\mathbf{A}$ by any regular matrix $\\mathbf{T}$ and its inverse $\\mathbf{T}^{-1}$ we get a new matrix $\\mathbf{B} = \\mathbf{T}\\mathbf{A}\\mathbf{T}^{-1}$. Determinant of the matrix $\\mathbf{B}$ must have the same value as determinant of the matrix $\\mathbf{A}$. This means that matrix $\\mathbf{B}$ represents some new vector on a unite sphere and therefore the matrix $\\mathbf{T}$ represents some rotation of our original sphere.\n",
    "\n"
   ]
  },
  {
   "cell_type": "markdown",
   "metadata": {
    "collapsed": false
   },
   "source": [
    "## Dotaz?\n",
    "\n",
    "U matice reprezentující vektor $v = (x, y, z, w)$ mám napsané pro rotaci toto $\\mathbf{T}\\mathbf{A}\\mathbf{Y^{-1}}$. Jaký je rozdíl oproti 2D sféře? Jaky je vztah mezi $\\mathbf{T}$ a $\\mathbf{Y^{-1}}$? Nebo mají jen determinant roven $e^{i\\varphi}$?\n",
    "\n"
   ]
  },
  {
   "cell_type": "markdown",
   "metadata": {
    "collapsed": false
   },
   "source": [
    "## Propojení(?)\n",
    "\n",
    "Měli jsme vektor $\\mathbf{v} = (a,b)$ kde $a, b \\in \\mathbb{C}$. Platí ekvivalence $(z, 1) = \\lambda \\mathbf{v}$, (kde $\\lambda \\in \\mathbb{C}$). Pomocí rotací Riemannovy sféry dokážeme transformovat daný vektor $(z, 1)$\n",
    "\n",
    "Matice tranformace:"
   ]
  },
  {
   "cell_type": "code",
   "execution_count": 9,
   "metadata": {
    "collapsed": false
   },
   "outputs": [
    {
     "data": {
      "text/html": [
       "<html>\\(\\displaystyle \\left(\\begin{array}{rr}\n",
       "e^{\\left(\\frac{1}{2} i \\, \\varphi\\right)} & 0 \\\\\n",
       "0 & e^{\\left(-\\frac{1}{2} i \\, \\varphi\\right)}\n",
       "\\end{array}\\right) \\left(\\begin{array}{rr}\n",
       "\\cos\\left(\\frac{1}{2} \\, \\varphi\\right) & i \\, \\sin\\left(\\frac{1}{2} \\, \\varphi\\right) \\\\\n",
       "i \\, \\sin\\left(\\frac{1}{2} \\, \\varphi\\right) & \\cos\\left(\\frac{1}{2} \\, \\varphi\\right)\n",
       "\\end{array}\\right)\\)</html>"
      ],
      "text/latex": [
       "$\\displaystyle \\left(\\begin{array}{rr}\n",
       "e^{\\left(\\frac{1}{2} i \\, \\varphi\\right)} & 0 \\\\\n",
       "0 & e^{\\left(-\\frac{1}{2} i \\, \\varphi\\right)}\n",
       "\\end{array}\\right) \\left(\\begin{array}{rr}\n",
       "\\cos\\left(\\frac{1}{2} \\, \\varphi\\right) & i \\, \\sin\\left(\\frac{1}{2} \\, \\varphi\\right) \\\\\n",
       "i \\, \\sin\\left(\\frac{1}{2} \\, \\varphi\\right) & \\cos\\left(\\frac{1}{2} \\, \\varphi\\right)\n",
       "\\end{array}\\right)$"
      ],
      "text/plain": [
       "[ e^(1/2*I*varphi)                 0]\n",
       "[                0 e^(-1/2*I*varphi)] [  cos(1/2*varphi) I*sin(1/2*varphi)]\n",
       "[I*sin(1/2*varphi)   cos(1/2*varphi)]"
      ]
     },
     "execution_count": 9,
     "metadata": {
     },
     "output_type": "execute_result"
    }
   ],
   "source": [
    "R_xy = matrix([[exp(i*varphi/2),0],[0,exp(-i*varphi/2)]])\n",
    "R_yz = matrix([[cos(varphi/2),i*sin(varphi/2)],[i*sin(varphi/2),cos(varphi/2)]])\n",
    "\n",
    "pretty_print(R_xy, R_yz)"
   ]
  },
  {
   "cell_type": "code",
   "execution_count": 10,
   "metadata": {
    "collapsed": false
   },
   "outputs": [
    {
     "data": {
      "text/html": [
       "<html>\\(\\displaystyle \\left(\\begin{array}{rr}\n",
       "\\cos\\left(\\frac{1}{2} \\, \\varphi\\right) & -\\sin\\left(\\frac{1}{2} \\, \\varphi\\right) \\\\\n",
       "\\sin\\left(\\frac{1}{2} \\, \\varphi\\right) & \\cos\\left(\\frac{1}{2} \\, \\varphi\\right)\n",
       "\\end{array}\\right)\\)</html>"
      ],
      "text/latex": [
       "$\\displaystyle \\left(\\begin{array}{rr}\n",
       "\\cos\\left(\\frac{1}{2} \\, \\varphi\\right) & -\\sin\\left(\\frac{1}{2} \\, \\varphi\\right) \\\\\n",
       "\\sin\\left(\\frac{1}{2} \\, \\varphi\\right) & \\cos\\left(\\frac{1}{2} \\, \\varphi\\right)\n",
       "\\end{array}\\right)$"
      ],
      "text/plain": [
       "[ cos(1/2*varphi) -sin(1/2*varphi)]\n",
       "[ sin(1/2*varphi)  cos(1/2*varphi)]"
      ]
     },
     "execution_count": 10,
     "metadata": {
     },
     "output_type": "execute_result"
    }
   ],
   "source": [
    "R_zx = R_xy(varphi=pi/2)*R_yz*R_xy(varphi=-pi/2)\n",
    "pretty_print(R_zx)"
   ]
  },
  {
   "cell_type": "code",
   "execution_count": 11,
   "metadata": {
    "collapsed": false
   },
   "outputs": [
    {
     "data": {
      "text/html": [
       "<html>\\(\\displaystyle \\left(\\begin{array}{rr}\n",
       "0 & \\frac{1}{2} i \\\\\n",
       "\\frac{1}{2} i & 0\n",
       "\\end{array}\\right) \\left(\\begin{array}{rr}\n",
       "0 & -\\frac{1}{2} \\\\\n",
       "\\frac{1}{2} & 0\n",
       "\\end{array}\\right) \\left(\\begin{array}{rr}\n",
       "\\frac{1}{2} i & 0 \\\\\n",
       "0 & -\\frac{1}{2} i\n",
       "\\end{array}\\right)\\)</html>"
      ],
      "text/latex": [
       "$\\displaystyle \\left(\\begin{array}{rr}\n",
       "0 & \\frac{1}{2} i \\\\\n",
       "\\frac{1}{2} i & 0\n",
       "\\end{array}\\right) \\left(\\begin{array}{rr}\n",
       "0 & -\\frac{1}{2} \\\\\n",
       "\\frac{1}{2} & 0\n",
       "\\end{array}\\right) \\left(\\begin{array}{rr}\n",
       "\\frac{1}{2} i & 0 \\\\\n",
       "0 & -\\frac{1}{2} i\n",
       "\\end{array}\\right)$"
      ],
      "text/plain": [
       "[    0 1/2*I]\n",
       "[1/2*I     0] [   0 -1/2]\n",
       "[ 1/2    0] [ 1/2*I      0]\n",
       "[     0 -1/2*I]"
      ]
     },
     "execution_count": 11,
     "metadata": {
     },
     "output_type": "execute_result"
    }
   ],
   "source": [
    "#Generátory\n",
    "\n",
    "g_x = R_yz.derivative(varphi)(varphi = 0)\n",
    "g_y = R_zx.derivative(varphi)(varphi = 0)\n",
    "g_z = R_xy.derivative(varphi)(varphi = 0)\n",
    "\n",
    "pretty_print(g_x, g_y, g_z)"
   ]
  },
  {
   "cell_type": "code",
   "execution_count": 12,
   "metadata": {
    "collapsed": false
   },
   "outputs": [
    {
     "data": {
      "text/html": [
       "<html>\\(\\displaystyle \\verb|g_z|\\verb| |\\verb|=|\\verb| |\\verb|[g_x,g_y]|\\verb| |\\verb|=| \\left(\\begin{array}{rr}\n",
       "\\frac{1}{2} i & 0 \\\\\n",
       "0 & -\\frac{1}{2} i\n",
       "\\end{array}\\right) \\verb|=| \\left(\\begin{array}{rr}\n",
       "\\frac{1}{2} i & 0 \\\\\n",
       "0 & -\\frac{1}{2} i\n",
       "\\end{array}\\right)\\)</html>"
      ],
      "text/latex": [
       "$\\displaystyle \\verb|g_z|\\verb| |\\verb|=|\\verb| |\\verb|[g_x,g_y]|\\verb| |\\verb|=| \\left(\\begin{array}{rr}\n",
       "\\frac{1}{2} i & 0 \\\\\n",
       "0 & -\\frac{1}{2} i\n",
       "\\end{array}\\right) \\verb|=| \\left(\\begin{array}{rr}\n",
       "\\frac{1}{2} i & 0 \\\\\n",
       "0 & -\\frac{1}{2} i\n",
       "\\end{array}\\right)$"
      ],
      "text/plain": [
       "'g_z = [g_x,g_y] =' [ 1/2*I      0]\n",
       "[     0 -1/2*I] '=' [ 1/2*I      0]\n",
       "[     0 -1/2*I]"
      ]
     },
     "execution_count": 12,
     "metadata": {
     },
     "output_type": "execute_result"
    },
    {
     "data": {
      "text/html": [
       "<html>\\(\\displaystyle \\verb|g_x|\\verb| |\\verb|=|\\verb| |\\verb|[g_y,g_z]|\\verb| |\\verb|=| \\left(\\begin{array}{rr}\n",
       "0 & \\frac{1}{2} i \\\\\n",
       "\\frac{1}{2} i & 0\n",
       "\\end{array}\\right) \\verb|=| \\left(\\begin{array}{rr}\n",
       "0 & \\frac{1}{2} i \\\\\n",
       "\\frac{1}{2} i & 0\n",
       "\\end{array}\\right)\\)</html>"
      ],
      "text/latex": [
       "$\\displaystyle \\verb|g_x|\\verb| |\\verb|=|\\verb| |\\verb|[g_y,g_z]|\\verb| |\\verb|=| \\left(\\begin{array}{rr}\n",
       "0 & \\frac{1}{2} i \\\\\n",
       "\\frac{1}{2} i & 0\n",
       "\\end{array}\\right) \\verb|=| \\left(\\begin{array}{rr}\n",
       "0 & \\frac{1}{2} i \\\\\n",
       "\\frac{1}{2} i & 0\n",
       "\\end{array}\\right)$"
      ],
      "text/plain": [
       "'g_x = [g_y,g_z] =' [    0 1/2*I]\n",
       "[1/2*I     0] '=' [    0 1/2*I]\n",
       "[1/2*I     0]"
      ]
     },
     "execution_count": 12,
     "metadata": {
     },
     "output_type": "execute_result"
    },
    {
     "data": {
      "text/html": [
       "<html>\\(\\displaystyle \\verb|g_y|\\verb| |\\verb|=|\\verb| |\\verb|[g_z,g_x]|\\verb| |\\verb|=| \\left(\\begin{array}{rr}\n",
       "0 & -\\frac{1}{2} \\\\\n",
       "\\frac{1}{2} & 0\n",
       "\\end{array}\\right) \\verb|=| \\left(\\begin{array}{rr}\n",
       "0 & -\\frac{1}{2} \\\\\n",
       "\\frac{1}{2} & 0\n",
       "\\end{array}\\right)\\)</html>"
      ],
      "text/latex": [
       "$\\displaystyle \\verb|g_y|\\verb| |\\verb|=|\\verb| |\\verb|[g_z,g_x]|\\verb| |\\verb|=| \\left(\\begin{array}{rr}\n",
       "0 & -\\frac{1}{2} \\\\\n",
       "\\frac{1}{2} & 0\n",
       "\\end{array}\\right) \\verb|=| \\left(\\begin{array}{rr}\n",
       "0 & -\\frac{1}{2} \\\\\n",
       "\\frac{1}{2} & 0\n",
       "\\end{array}\\right)$"
      ],
      "text/plain": [
       "'g_y = [g_z,g_x] =' [   0 -1/2]\n",
       "[ 1/2    0] '=' [   0 -1/2]\n",
       "[ 1/2    0]"
      ]
     },
     "execution_count": 12,
     "metadata": {
     },
     "output_type": "execute_result"
    }
   ],
   "source": [
    "pretty_print(\"g_z = [g_x,g_y] =\", g_x.commutator(g_y), \"=\", g_z)\n",
    "pretty_print(\"g_x = [g_y,g_z] =\", g_y.commutator(g_z), \"=\", g_x)\n",
    "pretty_print(\"g_y = [g_z,g_x] =\", g_z.commutator(g_x), \"=\", g_y)\n"
   ]
  },
  {
   "cell_type": "code",
   "execution_count": 17,
   "metadata": {
    "collapsed": false
   },
   "outputs": [
   ],
   "source": [
    "e = (-i*g_x-g_y)\n",
    "f = (-i*g_x+g_y)\n",
    "h = (-2*i*g_z)"
   ]
  },
  {
   "cell_type": "code",
   "execution_count": 32,
   "metadata": {
    "collapsed": false
   },
   "outputs": [
    {
     "data": {
      "text/html": [
       "<html>\\(\\displaystyle \\left(\\begin{array}{rr}\n",
       "\\frac{1}{2} \\, {\\left(e^{\\left(i \\, \\varphi\\right)} + 1\\right)} e^{\\left(-\\frac{1}{2} i \\, \\varphi\\right)} & \\frac{1}{2} \\, {\\left(e^{\\left(i \\, \\varphi\\right)} - 1\\right)} e^{\\left(-\\frac{1}{2} i \\, \\varphi\\right)} \\\\\n",
       "\\frac{1}{2} \\, {\\left(e^{\\left(i \\, \\varphi\\right)} - 1\\right)} e^{\\left(-\\frac{1}{2} i \\, \\varphi\\right)} & \\frac{1}{2} \\, {\\left(e^{\\left(i \\, \\varphi\\right)} + 1\\right)} e^{\\left(-\\frac{1}{2} i \\, \\varphi\\right)}\n",
       "\\end{array}\\right)\\)</html>"
      ],
      "text/latex": [
       "$\\displaystyle \\left(\\begin{array}{rr}\n",
       "\\frac{1}{2} \\, {\\left(e^{\\left(i \\, \\varphi\\right)} + 1\\right)} e^{\\left(-\\frac{1}{2} i \\, \\varphi\\right)} & \\frac{1}{2} \\, {\\left(e^{\\left(i \\, \\varphi\\right)} - 1\\right)} e^{\\left(-\\frac{1}{2} i \\, \\varphi\\right)} \\\\\n",
       "\\frac{1}{2} \\, {\\left(e^{\\left(i \\, \\varphi\\right)} - 1\\right)} e^{\\left(-\\frac{1}{2} i \\, \\varphi\\right)} & \\frac{1}{2} \\, {\\left(e^{\\left(i \\, \\varphi\\right)} + 1\\right)} e^{\\left(-\\frac{1}{2} i \\, \\varphi\\right)}\n",
       "\\end{array}\\right)$"
      ],
      "text/plain": [
       "[1/2*(e^(I*varphi) + 1)*e^(-1/2*I*varphi) 1/2*(e^(I*varphi) - 1)*e^(-1/2*I*varphi)]\n",
       "[1/2*(e^(I*varphi) - 1)*e^(-1/2*I*varphi) 1/2*(e^(I*varphi) + 1)*e^(-1/2*I*varphi)]"
      ]
     },
     "execution_count": 32,
     "metadata": {
     },
     "output_type": "execute_result"
    },
    {
     "data": {
      "text/html": [
       "<html>\\(\\displaystyle \\left(\\begin{array}{rr}\n",
       "\\frac{1}{2} \\, {\\left(e^{\\left(i \\, \\varphi\\right)} + 1\\right)} e^{\\left(-\\frac{1}{2} i \\, \\varphi\\right)} & \\frac{1}{2} \\, {\\left(i \\, e^{\\left(i \\, \\varphi\\right)} - i\\right)} e^{\\left(-\\frac{1}{2} i \\, \\varphi\\right)} \\\\\n",
       "-\\frac{1}{2} \\, {\\left(i \\, e^{\\left(i \\, \\varphi\\right)} - i\\right)} e^{\\left(-\\frac{1}{2} i \\, \\varphi\\right)} & \\frac{1}{2} \\, {\\left(e^{\\left(i \\, \\varphi\\right)} + 1\\right)} e^{\\left(-\\frac{1}{2} i \\, \\varphi\\right)}\n",
       "\\end{array}\\right)\\)</html>"
      ],
      "text/latex": [
       "$\\displaystyle \\left(\\begin{array}{rr}\n",
       "\\frac{1}{2} \\, {\\left(e^{\\left(i \\, \\varphi\\right)} + 1\\right)} e^{\\left(-\\frac{1}{2} i \\, \\varphi\\right)} & \\frac{1}{2} \\, {\\left(i \\, e^{\\left(i \\, \\varphi\\right)} - i\\right)} e^{\\left(-\\frac{1}{2} i \\, \\varphi\\right)} \\\\\n",
       "-\\frac{1}{2} \\, {\\left(i \\, e^{\\left(i \\, \\varphi\\right)} - i\\right)} e^{\\left(-\\frac{1}{2} i \\, \\varphi\\right)} & \\frac{1}{2} \\, {\\left(e^{\\left(i \\, \\varphi\\right)} + 1\\right)} e^{\\left(-\\frac{1}{2} i \\, \\varphi\\right)}\n",
       "\\end{array}\\right)$"
      ],
      "text/plain": [
       "[   1/2*(e^(I*varphi) + 1)*e^(-1/2*I*varphi)  1/2*(I*e^(I*varphi) - I)*e^(-1/2*I*varphi)]\n",
       "[-1/2*(I*e^(I*varphi) - I)*e^(-1/2*I*varphi)    1/2*(e^(I*varphi) + 1)*e^(-1/2*I*varphi)]"
      ]
     },
     "execution_count": 32,
     "metadata": {
     },
     "output_type": "execute_result"
    },
    {
     "data": {
      "text/html": [
       "<html>\\(\\displaystyle \\left(\\begin{array}{rr}\n",
       "e^{\\left(\\frac{1}{2} i \\, \\varphi\\right)} & 0 \\\\\n",
       "0 & e^{\\left(-\\frac{1}{2} i \\, \\varphi\\right)}\n",
       "\\end{array}\\right)\\)</html>"
      ],
      "text/latex": [
       "$\\displaystyle \\left(\\begin{array}{rr}\n",
       "e^{\\left(\\frac{1}{2} i \\, \\varphi\\right)} & 0 \\\\\n",
       "0 & e^{\\left(-\\frac{1}{2} i \\, \\varphi\\right)}\n",
       "\\end{array}\\right)$"
      ],
      "text/plain": [
       "[ e^(1/2*I*varphi)                 0]\n",
       "[                0 e^(-1/2*I*varphi)]"
      ]
     },
     "execution_count": 32,
     "metadata": {
     },
     "output_type": "execute_result"
    }
   ],
   "source": [
    "pretty_print(exp(varphi*g_x))\n",
    "pretty_print(exp(varphi*g_y))\n",
    "pretty_print(exp(varphi*g_z))"
   ]
  },
  {
   "cell_type": "code",
   "execution_count": 19,
   "metadata": {
    "collapsed": false
   },
   "outputs": [
    {
     "data": {
      "text/html": [
       "<html>\\(\\displaystyle \\verb|e|\\verb| |\\verb|=| \\left(\\begin{array}{rr}\n",
       "0 & 1 \\\\\n",
       "0 & 0\n",
       "\\end{array}\\right)\\)</html>"
      ],
      "text/latex": [
       "$\\displaystyle \\verb|e|\\verb| |\\verb|=| \\left(\\begin{array}{rr}\n",
       "0 & 1 \\\\\n",
       "0 & 0\n",
       "\\end{array}\\right)$"
      ],
      "text/plain": [
       "'e =' [0 1]\n",
       "[0 0]"
      ]
     },
     "execution_count": 19,
     "metadata": {
     },
     "output_type": "execute_result"
    },
    {
     "data": {
      "text/html": [
       "<html>\\(\\displaystyle \\verb|f|\\verb| |\\verb|=| \\left(\\begin{array}{rr}\n",
       "0 & 0 \\\\\n",
       "1 & 0\n",
       "\\end{array}\\right)\\)</html>"
      ],
      "text/latex": [
       "$\\displaystyle \\verb|f|\\verb| |\\verb|=| \\left(\\begin{array}{rr}\n",
       "0 & 0 \\\\\n",
       "1 & 0\n",
       "\\end{array}\\right)$"
      ],
      "text/plain": [
       "'f =' [0 0]\n",
       "[1 0]"
      ]
     },
     "execution_count": 19,
     "metadata": {
     },
     "output_type": "execute_result"
    },
    {
     "data": {
      "text/html": [
       "<html>\\(\\displaystyle \\verb|h|\\verb| |\\verb|=| \\left(\\begin{array}{rr}\n",
       "1 & 0 \\\\\n",
       "0 & -1\n",
       "\\end{array}\\right)\\)</html>"
      ],
      "text/latex": [
       "$\\displaystyle \\verb|h|\\verb| |\\verb|=| \\left(\\begin{array}{rr}\n",
       "1 & 0 \\\\\n",
       "0 & -1\n",
       "\\end{array}\\right)$"
      ],
      "text/plain": [
       "'h =' [ 1  0]\n",
       "[ 0 -1]"
      ]
     },
     "execution_count": 19,
     "metadata": {
     },
     "output_type": "execute_result"
    }
   ],
   "source": [
    "pretty_print(\"e =\", e)\n",
    "pretty_print(\"f =\", f)\n",
    "pretty_print(\"h =\", h)"
   ]
  },
  {
   "cell_type": "code",
   "execution_count": 24,
   "metadata": {
    "collapsed": false
   },
   "outputs": [
    {
     "data": {
      "text/plain": [
       "0"
      ]
     },
     "execution_count": 24,
     "metadata": {
     },
     "output_type": "execute_result"
    }
   ],
   "source": [
   ]
  },
  {
   "cell_type": "code",
   "execution_count": 0,
   "metadata": {
    "collapsed": false
   },
   "outputs": [
   ],
   "source": [
   ]
  }
 ],
 "metadata": {
  "kernelspec": {
   "argv": [
    "sage-10.1",
    "--python",
    "-m",
    "sage.repl.ipython_kernel",
    "--matplotlib=inline",
    "-f",
    "{connection_file}"
   ],
   "display_name": "SageMath 10.1",
   "env": {
   },
   "language": "sagemath",
   "metadata": {
    "cocalc": {
     "description": "Open-source mathematical software system",
     "priority": 10,
     "url": "https://www.sagemath.org/"
    }
   },
   "name": "sage-10.1",
   "resource_dir": "/ext/jupyter/kernels/sage-10.1"
  },
  "language_info": {
   "codemirror_mode": {
    "name": "ipython",
    "version": 3
   },
   "file_extension": ".py",
   "mimetype": "text/x-python",
   "name": "python",
   "nbconvert_exporter": "python",
   "pygments_lexer": "ipython3",
   "version": "3.11.1"
  }
 },
 "nbformat": 4,
 "nbformat_minor": 4
}