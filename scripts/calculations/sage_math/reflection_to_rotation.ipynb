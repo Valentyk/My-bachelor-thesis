{
 "cells": [
  {
   "cell_type": "code",
   "execution_count": 2,
   "metadata": {
    "collapsed": false
   },
   "outputs": [
    {
     "data": {
      "text/plain": [
       "phi"
      ]
     },
     "execution_count": 2,
     "metadata": {
     },
     "output_type": "execute_result"
    }
   ],
   "source": [
    "var(\"phi\")"
   ]
  },
  {
   "cell_type": "code",
   "execution_count": 3,
   "metadata": {
    "collapsed": false
   },
   "outputs": [
   ],
   "source": [
    "rot = matrix([[cos(phi), -sin(phi)],[sin(phi), cos(phi)]]) #rotation matrix"
   ]
  },
  {
   "cell_type": "code",
   "execution_count": 4,
   "metadata": {
    "collapsed": false
   },
   "outputs": [
    {
     "name": "stdout",
     "output_type": "stream",
     "text": [
      "[-1  0]\n",
      "[ 0  1] \n",
      " \n",
      " [ 1  0]\n",
      "[ 0 -1]\n"
     ]
    }
   ],
   "source": [
    "T = rot(phi=pi/2)\n",
    "R_y = matrix([[-1,0],[0,1]])\n",
    "R_x = T*R_y*T^-1\n",
    "print(R_y,\"\\n \\n\",R_x)"
   ]
  },
  {
   "cell_type": "code",
   "execution_count": 5,
   "metadata": {
    "collapsed": false
   },
   "outputs": [
    {
     "data": {
      "text/plain": [
       "[ 1/2*sqrt(2) -1/2*sqrt(2)]\n",
       "[ 1/2*sqrt(2)  1/2*sqrt(2)]"
      ]
     },
     "execution_count": 5,
     "metadata": {
     },
     "output_type": "execute_result"
    }
   ],
   "source": [
    "rot(phi=pi/4)"
   ]
  },
  {
   "cell_type": "code",
   "execution_count": 17,
   "metadata": {
    "collapsed": false
   },
   "outputs": [
    {
     "data": {
      "text/plain": [
       "[-1  0]\n",
       "[ 0 -1]"
      ]
     },
     "execution_count": 17,
     "metadata": {
     },
     "output_type": "execute_result"
    }
   ],
   "source": [
    "rot(phi=pi/4)^3*R_y*(rot(phi=pi/4)^-1)^3*rot(phi=pi/4)*R_y*(rot(phi=pi/4)^-1)"
   ]
  },
  {
   "cell_type": "markdown",
   "metadata": {
    "collapsed": false
   },
   "source": [
    "### General case - rotation by an angle $\\varphi$"
   ]
  },
  {
   "cell_type": "code",
   "execution_count": 34,
   "metadata": {
    "collapsed": false
   },
   "outputs": [
   ],
   "source": [
    "R_1 = rot(phi=phi/4)*R_y*(rot(phi=phi/4))^(-1)\n",
    "R_2 = (rot(phi=phi/4))^3*R_y*((rot(phi=phi/4))^(-1))^3"
   ]
  },
  {
   "cell_type": "code",
   "execution_count": 46,
   "metadata": {
    "collapsed": false
   },
   "outputs": [
    {
     "data": {
      "text/plain": [
       "8*cos(1/4*phi)^4 - 8*cos(1/4*phi)^2 + 1"
      ]
     },
     "execution_count": 46,
     "metadata": {
     },
     "output_type": "execute_result"
    }
   ],
   "source": [
    "(R_2*R_1)[0,0].full_simplify()"
   ]
  },
  {
   "cell_type": "code",
   "execution_count": 47,
   "metadata": {
    "collapsed": false
   },
   "outputs": [
    {
     "data": {
      "text/plain": [
       "-4*(2*cos(1/4*phi)^3 - cos(1/4*phi))*sin(1/4*phi)"
      ]
     },
     "execution_count": 47,
     "metadata": {
     },
     "output_type": "execute_result"
    }
   ],
   "source": [
    "(R_2*R_1)[0,1].full_simplify()"
   ]
  },
  {
   "cell_type": "code",
   "execution_count": 48,
   "metadata": {
    "collapsed": false
   },
   "outputs": [
    {
     "data": {
      "text/plain": [
       "4*(2*cos(1/4*phi)^3 - cos(1/4*phi))*sin(1/4*phi)"
      ]
     },
     "execution_count": 48,
     "metadata": {
     },
     "output_type": "execute_result"
    }
   ],
   "source": [
    "(R_2*R_1)[1,0].full_simplify()"
   ]
  },
  {
   "cell_type": "code",
   "execution_count": 49,
   "metadata": {
    "collapsed": false
   },
   "outputs": [
    {
     "data": {
      "text/plain": [
       "8*cos(1/4*phi)^4 - 8*cos(1/4*phi)^2 + 1"
      ]
     },
     "execution_count": 49,
     "metadata": {
     },
     "output_type": "execute_result"
    }
   ],
   "source": [
    "(R_2*R_1)[1,1].full_simplify()"
   ]
  },
  {
   "cell_type": "markdown",
   "metadata": {
    "collapsed": false
   },
   "source": [
    "After simplification by hand the folloding expressions gives us $\\left( \\begin{matrix} \\cos{\\varphi} & -\\sin{\\varphi} \\\\ \\sin{\\varphi} & \\cos{\\varphi} \\end{matrix} \\right)$. Unfortunately Sage coundn't figure this out, but the simplification wasn't difficult."
   ]
  },
  {
   "cell_type": "code",
   "execution_count": 0,
   "metadata": {
    "collapsed": false
   },
   "outputs": [
   ],
   "source": [
   ]
  }
 ],
 "metadata": {
  "kernelspec": {
   "argv": [
    "sage-10.1",
    "--python",
    "-m",
    "sage.repl.ipython_kernel",
    "--matplotlib=inline",
    "-f",
    "{connection_file}"
   ],
   "display_name": "SageMath 10.1",
   "env": {
   },
   "language": "sagemath",
   "metadata": {
    "cocalc": {
     "description": "Open-source mathematical software system",
     "priority": 10,
     "url": "https://www.sagemath.org/"
    }
   },
   "name": "sage-10.1",
   "resource_dir": "/ext/jupyter/kernels/sage-10.1"
  }
 },
 "nbformat": 4,
 "nbformat_minor": 4
}