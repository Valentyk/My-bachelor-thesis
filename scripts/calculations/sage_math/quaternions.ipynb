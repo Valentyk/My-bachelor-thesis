{
 "cells": [
  {
   "cell_type": "code",
   "execution_count": 50,
   "metadata": {
    "collapsed": false
   },
   "outputs": [
    {
     "data": {
      "text/plain": [
       "t"
      ]
     },
     "execution_count": 50,
     "metadata": {
     },
     "output_type": "execute_result"
    }
   ],
   "source": [
    "var(\"x, y, z, w\")\n",
    "var(\"x_1, x_2, x_3, x_4\")\n",
    "var(\"t\") #this will be my free variable"
   ]
  },
  {
   "cell_type": "code",
   "execution_count": 15,
   "metadata": {
    "collapsed": false
   },
   "outputs": [
    {
     "data": {
      "text/html": [
       "<html>\\(\\displaystyle \\left(\\begin{array}{rr}\n",
       "x + i \\, y & i \\, w + z \\\\\n",
       "i \\, w - z & x - i \\, y\n",
       "\\end{array}\\right)\\)</html>"
      ],
      "text/latex": [
       "$\\displaystyle \\left(\\begin{array}{rr}\n",
       "x + i \\, y & i \\, w + z \\\\\n",
       "i \\, w - z & x - i \\, y\n",
       "\\end{array}\\right)$"
      ],
      "text/plain": [
       "[x + I*y I*w + z]\n",
       "[I*w - z x - I*y]"
      ]
     },
     "execution_count": 15,
     "metadata": {
     },
     "output_type": "execute_result"
    }
   ],
   "source": [
    "a = matrix([[x+i*y,z+i*w],[-z+i*w,x-i*y]])\n",
    "pretty_print(a)"
   ]
  },
  {
   "cell_type": "code",
   "execution_count": 16,
   "metadata": {
    "collapsed": false
   },
   "outputs": [
    {
     "data": {
      "text/plain": [
       "w^2 + x^2 + y^2 + z^2"
      ]
     },
     "execution_count": 16,
     "metadata": {
     },
     "output_type": "execute_result"
    }
   ],
   "source": [
    "det(a).full_simplify()"
   ]
  },
  {
   "cell_type": "markdown",
   "metadata": {
    "collapsed": false
   },
   "source": [
    "Asi bude vhodné mít jednotnou konvenci"
   ]
  },
  {
   "cell_type": "code",
   "execution_count": 28,
   "metadata": {
    "collapsed": false
   },
   "outputs": [
    {
     "data": {
      "text/plain": [
       "(x_1, x_2, x_3, x_4)"
      ]
     },
     "execution_count": 28,
     "metadata": {
     },
     "output_type": "execute_result"
    }
   ],
   "source": [
    "v = vector([x_1,x_2,x_3,x_4])\n",
    "v"
   ]
  },
  {
   "cell_type": "code",
   "execution_count": 34,
   "metadata": {
    "collapsed": false
   },
   "outputs": [
   ],
   "source": [
    "def mat(a):\n",
    "    return matrix([[a[0] + I*a[1], a[2] + I*a[3]], [I*a[3] - a[2], a[0] - I*a[1]]])\n",
    "\n",
    "def vec(a):\n",
    "    return vector([(a[0,0]+a[1,1])/2, (a[0,0]-a[1,1])/(2*i), (a[0,1]-a[1,0])/2, (a[0,1]+a[1,0])/(2*i)])"
   ]
  },
  {
   "cell_type": "code",
   "execution_count": 36,
   "metadata": {
    "collapsed": false
   },
   "outputs": [
    {
     "data": {
      "text/html": [
       "<html>\\(\\displaystyle \\left(\\begin{array}{rr}\n",
       "x_{1} + i \\, x_{2} & x_{3} + i \\, x_{4} \\\\\n",
       "-x_{3} + i \\, x_{4} & x_{1} - i \\, x_{2}\n",
       "\\end{array}\\right)\\)</html>"
      ],
      "text/latex": [
       "$\\displaystyle \\left(\\begin{array}{rr}\n",
       "x_{1} + i \\, x_{2} & x_{3} + i \\, x_{4} \\\\\n",
       "-x_{3} + i \\, x_{4} & x_{1} - i \\, x_{2}\n",
       "\\end{array}\\right)$"
      ],
      "text/plain": [
       "[ x_1 + I*x_2  x_3 + I*x_4]\n",
       "[-x_3 + I*x_4  x_1 - I*x_2]"
      ]
     },
     "execution_count": 36,
     "metadata": {
     },
     "output_type": "execute_result"
    },
    {
     "data": {
      "text/html": [
       "<html>\\(\\displaystyle \\left(x_{1},\\,x_{2},\\,x_{3},\\,x_{4}\\right)\\)</html>"
      ],
      "text/latex": [
       "$\\displaystyle \\left(x_{1},\\,x_{2},\\,x_{3},\\,x_{4}\\right)$"
      ],
      "text/plain": [
       "(x_1, x_2, x_3, x_4)"
      ]
     },
     "execution_count": 36,
     "metadata": {
     },
     "output_type": "execute_result"
    }
   ],
   "source": [
    "pretty_print(mat(v))\n",
    "pretty_print(vec(mat(v)))"
   ]
  },
  {
   "cell_type": "code",
   "execution_count": 38,
   "metadata": {
    "collapsed": false
   },
   "outputs": [
   ],
   "source": [
    "ee = mat(vector([1,0,0,0]))\n",
    "ii = mat(vector([0,1,0,0]))\n",
    "jj = mat(vector([0,0,1,0]))\n",
    "kk = mat(vector([0,0,0,1]))"
   ]
  },
  {
   "cell_type": "code",
   "execution_count": 45,
   "metadata": {
    "collapsed": false
   },
   "outputs": [
    {
     "data": {
      "text/html": [
       "<html>\\(\\displaystyle \\left(-x_{2},\\,x_{1},\\,-x_{4},\\,x_{3}\\right)\\)</html>"
      ],
      "text/latex": [
       "$\\displaystyle \\left(-x_{2},\\,x_{1},\\,-x_{4},\\,x_{3}\\right)$"
      ],
      "text/plain": [
       "(-x_2, x_1, -x_4, x_3)"
      ]
     },
     "execution_count": 45,
     "metadata": {
     },
     "output_type": "execute_result"
    },
    {
     "data": {
      "text/html": [
       "<html>\\(\\displaystyle \\left(-x_{3},\\,x_{4},\\,x_{1},\\,-x_{2}\\right)\\)</html>"
      ],
      "text/latex": [
       "$\\displaystyle \\left(-x_{3},\\,x_{4},\\,x_{1},\\,-x_{2}\\right)$"
      ],
      "text/plain": [
       "(-x_3, x_4, x_1, -x_2)"
      ]
     },
     "execution_count": 45,
     "metadata": {
     },
     "output_type": "execute_result"
    },
    {
     "data": {
      "text/html": [
       "<html>\\(\\displaystyle \\left(-x_{4},\\,-x_{3},\\,x_{2},\\,x_{1}\\right)\\)</html>"
      ],
      "text/latex": [
       "$\\displaystyle \\left(-x_{4},\\,-x_{3},\\,x_{2},\\,x_{1}\\right)$"
      ],
      "text/plain": [
       "(-x_4, -x_3, x_2, x_1)"
      ]
     },
     "execution_count": 45,
     "metadata": {
     },
     "output_type": "execute_result"
    }
   ],
   "source": [
    "pretty_print(vec(ii*mat(v)))\n",
    "pretty_print(vec(jj*mat(v)))\n",
    "pretty_print(vec(kk*mat(v)))"
   ]
  },
  {
   "cell_type": "code",
   "execution_count": 57,
   "metadata": {
    "collapsed": false
   },
   "outputs": [
    {
     "data": {
      "text/html": [
       "<html>\\(\\displaystyle \\left(\\frac{1}{2} \\, {\\left(x_{1} + i \\, x_{2}\\right)} e^{t} + \\frac{1}{2} \\, {\\left(x_{1} - i \\, x_{2}\\right)} e^{t},\\,-\\frac{1}{2} i \\, {\\left(x_{1} + i \\, x_{2}\\right)} e^{t} + \\frac{1}{2} i \\, {\\left(x_{1} - i \\, x_{2}\\right)} e^{t},\\,\\frac{1}{2} \\, {\\left(x_{3} + i \\, x_{4}\\right)} e^{t} + \\frac{1}{2} \\, {\\left(x_{3} - i \\, x_{4}\\right)} e^{t},\\,-\\frac{1}{2} i \\, {\\left(x_{3} + i \\, x_{4}\\right)} e^{t} + \\frac{1}{2} i \\, {\\left(x_{3} - i \\, x_{4}\\right)} e^{t}\\right)\\)</html>"
      ],
      "text/latex": [
       "$\\displaystyle \\left(\\frac{1}{2} \\, {\\left(x_{1} + i \\, x_{2}\\right)} e^{t} + \\frac{1}{2} \\, {\\left(x_{1} - i \\, x_{2}\\right)} e^{t},\\,-\\frac{1}{2} i \\, {\\left(x_{1} + i \\, x_{2}\\right)} e^{t} + \\frac{1}{2} i \\, {\\left(x_{1} - i \\, x_{2}\\right)} e^{t},\\,\\frac{1}{2} \\, {\\left(x_{3} + i \\, x_{4}\\right)} e^{t} + \\frac{1}{2} \\, {\\left(x_{3} - i \\, x_{4}\\right)} e^{t},\\,-\\frac{1}{2} i \\, {\\left(x_{3} + i \\, x_{4}\\right)} e^{t} + \\frac{1}{2} i \\, {\\left(x_{3} - i \\, x_{4}\\right)} e^{t}\\right)$"
      ],
      "text/plain": [
       "(1/2*(x_1 + I*x_2)*e^t + 1/2*(x_1 - I*x_2)*e^t, -1/2*I*(x_1 + I*x_2)*e^t + 1/2*I*(x_1 - I*x_2)*e^t, 1/2*(x_3 + I*x_4)*e^t + 1/2*(x_3 - I*x_4)*e^t, -1/2*I*(x_3 + I*x_4)*e^t + 1/2*I*(x_3 - I*x_4)*e^t)"
      ]
     },
     "execution_count": 57,
     "metadata": {
     },
     "output_type": "execute_result"
    }
   ],
   "source": [
   ]
  },
  {
   "cell_type": "code",
   "execution_count": 0,
   "metadata": {
    "collapsed": false
   },
   "outputs": [
   ],
   "source": [
   ]
  }
 ],
 "metadata": {
  "kernelspec": {
   "argv": [
    "sage-10.1",
    "--python",
    "-m",
    "sage.repl.ipython_kernel",
    "--matplotlib=inline",
    "-f",
    "{connection_file}"
   ],
   "display_name": "SageMath 10.1",
   "env": {
   },
   "language": "sagemath",
   "metadata": {
    "cocalc": {
     "description": "Open-source mathematical software system",
     "priority": 10,
     "url": "https://www.sagemath.org/"
    }
   },
   "name": "sage-10.1",
   "resource_dir": "/ext/jupyter/kernels/sage-10.1"
  },
  "language_info": {
   "codemirror_mode": {
    "name": "ipython",
    "version": 3
   },
   "file_extension": ".py",
   "mimetype": "text/x-python",
   "name": "python",
   "nbconvert_exporter": "python",
   "pygments_lexer": "ipython3",
   "version": "3.11.1"
  }
 },
 "nbformat": 4,
 "nbformat_minor": 4
}