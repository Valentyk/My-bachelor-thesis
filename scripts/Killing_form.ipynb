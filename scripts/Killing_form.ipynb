{
 "cells": [
  {
   "cell_type": "code",
   "execution_count": 3,
   "metadata": {},
   "outputs": [],
   "source": [
    "import sympy as sp\n",
    "from sympy import *\n",
    "init_printing(use_unicode=True)"
   ]
  },
  {
   "cell_type": "code",
   "execution_count": 4,
   "metadata": {},
   "outputs": [],
   "source": [
    "X = [Matrix([[0,1,0,0], [-1,0,0,0], [0,0,0,0], [0,0,0,0]]), \\\n",
    "     Matrix([[0,0,1,0], [0,0,0,0], [-1,0,0,0], [0,0,0,0]]), \\\n",
    "     Matrix([[0,0,0,1], [0,0,0,0], [0,0,0,0], [-1,0,0,0]]), \\\n",
    "     Matrix([[0,0,0,0], [0,0,1,0], [0,-1,0,0], [0,0,0,0]]), \\\n",
    "     Matrix([[0,0,0,0], [0,0,0,1], [0,0,0,0], [0,-1,0,0]]), \\\n",
    "     Matrix([[0,0,0,0], [0,0,0,0], [0,0,0,1], [0,0,-1,0]])]\n",
    "     \n",
    "x_12 = Matrix([[0,1,0,0], [-1,0,0,0], [0,0,0,0], [0,0,0,0]])\n",
    "x_13 = Matrix([[0,0,1,0], [0,0,0,0], [-1,0,0,0], [0,0,0,0]])\n",
    "x_14 = Matrix([[0,0,0,1], [0,0,0,0], [0,0,0,0], [-1,0,0,0]])\n",
    "x_23 = Matrix([[0,0,0,0], [0,0,1,0], [0,-1,0,0], [0,0,0,0]])\n",
    "x_24 = Matrix([[0,0,0,0], [0,0,0,1], [0,0,0,0], [0,-1,0,0]])\n",
    "x_34 = Matrix([[0,0,0,0], [0,0,0,0], [0,0,0,1], [0,0,-1,0]])"
   ]
  },
  {
   "cell_type": "code",
   "execution_count": 5,
   "metadata": {},
   "outputs": [],
   "source": [
    "def Lie_brackets(A,B):\n",
    "    return(A*B-B*A)\n",
    "\n",
    "\n",
    "#Vyuzivam toho, ze vysledek bude opet jen jedna z matic x_ij resp. -x_ij\n",
    "def LB_to_vector(A,B):\n",
    "    vector = [0, 0, 0, 0, 0, 0]\n",
    "    for i in range(len(X)):\n",
    "        if Lie_brackets(A,B) == X[i]:\n",
    "            vector[i] = 1\n",
    "            return(vector)\n",
    "        elif Lie_brackets(A,B) == -X[i]:\n",
    "            vector[i] = -1\n",
    "            return(vector)\n",
    "        elif Lie_brackets(A,B) == zeros(4,4):\n",
    "            return(vector)\n",
    "        \n",
    "def vec_to_mat(a):\n",
    "    for i in range(len(a)):\n",
    "        if a[i] == 1:\n",
    "            return(X[i])\n",
    "        elif a[i] == -1:\n",
    "            return(-X[i])\n",
    "    a_zero = false\n",
    "    if a == [0,0,0,0,0,0]:\n",
    "        return(zeros(4,4))\n",
    "    \n",
    "def KF(x,y,a):\n",
    "    result = 0\n",
    "    for i in range(len(a)):\n",
    "        result += (a[i]*x)*(a[i]*y)\n",
    "    return(result)"
   ]
  },
  {
   "cell_type": "code",
   "execution_count": 6,
   "metadata": {},
   "outputs": [],
   "source": [
    "a = []\n",
    "\n",
    "for j in range(len(X)):\n",
    "    #print(f\"ad_{j+1}\")\n",
    "    place_holder = []\n",
    "    for i in range(len(X)):\n",
    "        place_holder.append(LB_to_vector(X[i], X[j]))\n",
    "        #print(LB_to_vector(X[i], X[j]))\n",
    "    a.append(place_holder)"
   ]
  },
  {
   "cell_type": "code",
   "execution_count": 7,
   "metadata": {},
   "outputs": [
    {
     "data": {
      "text/latex": [
       "$\\displaystyle \\left[ \\left[\\begin{matrix}0 & 0 & 0 & 0 & 0 & 0\\\\0 & 0 & 0 & -1 & 0 & 0\\\\0 & 0 & 0 & 0 & -1 & 0\\\\0 & 1 & 0 & 0 & 0 & 0\\\\0 & 0 & 1 & 0 & 0 & 0\\\\0 & 0 & 0 & 0 & 0 & 0\\end{matrix}\\right], \\  \\left[\\begin{matrix}0 & 0 & 0 & 1 & 0 & 0\\\\0 & 0 & 0 & 0 & 0 & 0\\\\0 & 0 & 0 & 0 & 0 & -1\\\\-1 & 0 & 0 & 0 & 0 & 0\\\\0 & 0 & 0 & 0 & 0 & 0\\\\0 & 0 & 1 & 0 & 0 & 0\\end{matrix}\\right], \\  \\left[\\begin{matrix}0 & 0 & 0 & 0 & 1 & 0\\\\0 & 0 & 0 & 0 & 0 & 1\\\\0 & 0 & 0 & 0 & 0 & 0\\\\0 & 0 & 0 & 0 & 0 & 0\\\\-1 & 0 & 0 & 0 & 0 & 0\\\\0 & -1 & 0 & 0 & 0 & 0\\end{matrix}\\right], \\  \\left[\\begin{matrix}0 & -1 & 0 & 0 & 0 & 0\\\\1 & 0 & 0 & 0 & 0 & 0\\\\0 & 0 & 0 & 0 & 0 & 0\\\\0 & 0 & 0 & 0 & 0 & 0\\\\0 & 0 & 0 & 0 & 0 & -1\\\\0 & 0 & 0 & 0 & 1 & 0\\end{matrix}\\right], \\  \\left[\\begin{matrix}0 & 0 & -1 & 0 & 0 & 0\\\\0 & 0 & 0 & 0 & 0 & 0\\\\1 & 0 & 0 & 0 & 0 & 0\\\\0 & 0 & 0 & 0 & 0 & 1\\\\0 & 0 & 0 & 0 & 0 & 0\\\\0 & 0 & 0 & -1 & 0 & 0\\end{matrix}\\right], \\  \\left[\\begin{matrix}0 & 0 & 0 & 0 & 0 & 0\\\\0 & 0 & -1 & 0 & 0 & 0\\\\0 & 1 & 0 & 0 & 0 & 0\\\\0 & 0 & 0 & 0 & -1 & 0\\\\0 & 0 & 0 & 1 & 0 & 0\\\\0 & 0 & 0 & 0 & 0 & 0\\end{matrix}\\right]\\right]$"
      ],
      "text/plain": [
       "⎡⎡0  0  0  0   0   0⎤  ⎡0   0  0  1  0  0 ⎤  ⎡0   0   0  0  1  0⎤  ⎡0  -1  0  \n",
       "⎢⎢                  ⎥  ⎢                  ⎥  ⎢                  ⎥  ⎢          \n",
       "⎢⎢0  0  0  -1  0   0⎥  ⎢0   0  0  0  0  0 ⎥  ⎢0   0   0  0  0  1⎥  ⎢1  0   0  \n",
       "⎢⎢                  ⎥  ⎢                  ⎥  ⎢                  ⎥  ⎢          \n",
       "⎢⎢0  0  0  0   -1  0⎥  ⎢0   0  0  0  0  -1⎥  ⎢0   0   0  0  0  0⎥  ⎢0  0   0  \n",
       "⎢⎢                  ⎥, ⎢                  ⎥, ⎢                  ⎥, ⎢          \n",
       "⎢⎢0  1  0  0   0   0⎥  ⎢-1  0  0  0  0  0 ⎥  ⎢0   0   0  0  0  0⎥  ⎢0  0   0  \n",
       "⎢⎢                  ⎥  ⎢                  ⎥  ⎢                  ⎥  ⎢          \n",
       "⎢⎢0  0  1  0   0   0⎥  ⎢0   0  0  0  0  0 ⎥  ⎢-1  0   0  0  0  0⎥  ⎢0  0   0  \n",
       "⎢⎢                  ⎥  ⎢                  ⎥  ⎢                  ⎥  ⎢          \n",
       "⎣⎣0  0  0  0   0   0⎦  ⎣0   0  1  0  0  0 ⎦  ⎣0   -1  0  0  0  0⎦  ⎣0  0   0  \n",
       "\n",
       "0  0  0 ⎤  ⎡0  0  -1  0   0  0⎤  ⎡0  0  0   0  0   0⎤⎤\n",
       "        ⎥  ⎢                  ⎥  ⎢                  ⎥⎥\n",
       "0  0  0 ⎥  ⎢0  0  0   0   0  0⎥  ⎢0  0  -1  0  0   0⎥⎥\n",
       "        ⎥  ⎢                  ⎥  ⎢                  ⎥⎥\n",
       "0  0  0 ⎥  ⎢1  0  0   0   0  0⎥  ⎢0  1  0   0  0   0⎥⎥\n",
       "        ⎥, ⎢                  ⎥, ⎢                  ⎥⎥\n",
       "0  0  0 ⎥  ⎢0  0  0   0   0  1⎥  ⎢0  0  0   0  -1  0⎥⎥\n",
       "        ⎥  ⎢                  ⎥  ⎢                  ⎥⎥\n",
       "0  0  -1⎥  ⎢0  0  0   0   0  0⎥  ⎢0  0  0   1  0   0⎥⎥\n",
       "        ⎥  ⎢                  ⎥  ⎢                  ⎥⎥\n",
       "0  1  0 ⎦  ⎣0  0  0   -1  0  0⎦  ⎣0  0  0   0  0   0⎦⎦"
      ]
     },
     "execution_count": 7,
     "metadata": {},
     "output_type": "execute_result"
    }
   ],
   "source": [
    "A = []\n",
    "\n",
    "for i in range(len(a)):\n",
    "    A.append(Matrix(a[i]).T)\n",
    "\n",
    "A"
   ]
  },
  {
   "cell_type": "markdown",
   "metadata": {},
   "source": [
    "## Pomocí indexů"
   ]
  },
  {
   "cell_type": "code",
   "execution_count": 17,
   "metadata": {},
   "outputs": [],
   "source": [
    "def indx_to_basis_mat(i,j):\n",
    "    if i > j:\n",
    "        return(\"Špatný formát\")\n",
    "    matrix = zeros(4,4)\n",
    "    matrix[i-1,j-1] = 1\n",
    "    matrix[j-1,i-1] = -1\n",
    "        \n",
    "    return(matrix)"
   ]
  },
  {
   "cell_type": "code",
   "execution_count": null,
   "metadata": {},
   "outputs": [],
   "source": []
  },
  {
   "cell_type": "code",
   "execution_count": 18,
   "metadata": {},
   "outputs": [
    {
     "data": {
      "text/latex": [
       "$\\displaystyle \\left[\\begin{matrix}0 & 0 & 0 & 0\\\\0 & 0 & 1 & 0\\\\0 & -1 & 0 & 0\\\\0 & 0 & 0 & 0\\end{matrix}\\right]$"
      ],
      "text/plain": [
       "⎡0  0   0  0⎤\n",
       "⎢           ⎥\n",
       "⎢0  0   1  0⎥\n",
       "⎢           ⎥\n",
       "⎢0  -1  0  0⎥\n",
       "⎢           ⎥\n",
       "⎣0  0   0  0⎦"
      ]
     },
     "execution_count": 18,
     "metadata": {},
     "output_type": "execute_result"
    }
   ],
   "source": [
    "indx_to_basis_mat(2,3)"
   ]
  },
  {
   "cell_type": "code",
   "execution_count": null,
   "metadata": {},
   "outputs": [],
   "source": []
  }
 ],
 "metadata": {
  "kernelspec": {
   "display_name": "base",
   "language": "python",
   "name": "python3"
  },
  "language_info": {
   "codemirror_mode": {
    "name": "ipython",
    "version": 3
   },
   "file_extension": ".py",
   "mimetype": "text/x-python",
   "name": "python",
   "nbconvert_exporter": "python",
   "pygments_lexer": "ipython3",
   "version": "3.9.12"
  },
  "orig_nbformat": 4
 },
 "nbformat": 4,
 "nbformat_minor": 2
}
