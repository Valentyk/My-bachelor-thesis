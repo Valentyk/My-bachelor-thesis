{
 "cells": [
  {
   "cell_type": "code",
   "execution_count": 3,
   "metadata": {},
   "outputs": [],
   "source": [
    "import sympy as sp\n",
    "from sympy import *\n",
    "init_printing(use_unicode=True)"
   ]
  },
  {
   "cell_type": "markdown",
   "metadata": {},
   "source": [
    "## Normální geodetické souřadnice\n",
    "\n",
    "severní pól: $s = \\begin{pmatrix} 0 \\\\ 0 \\\\ 0 \\\\ 1 \\end{pmatrix}$, báze ve faktor prostoru: $X_i = \\begin{pmatrix} 0 & e_i \\\\ -e_i & 0 \\end{pmatrix}$\n",
    "\n",
    "$x = \\exp(h_1X_1 + ... + h_nX_n) \\cdot s$\n",
    "\n",
    "$Y = \\sum_{i = 1}^{n} X_i$"
   ]
  },
  {
   "cell_type": "code",
   "execution_count": 58,
   "metadata": {},
   "outputs": [],
   "source": [
    "h_1, h_2, h_3 = symbols(\"h_1 h_2 h_3\")\n",
    "Y = Matrix([[0, 0, 0, h_1], [0, 0, 0, h_2], [0, 0, 0, h_3], [-h_1, -h_2, -h_3, 0]])\n",
    "s = Matrix([0,0,0,1])"
   ]
  },
  {
   "cell_type": "code",
   "execution_count": 62,
   "metadata": {},
   "outputs": [
    {
     "data": {
      "text/latex": [
       "$\\displaystyle \\left[\\begin{matrix}\\frac{h_{1} e^{\\sqrt{- h_{1}^{2} - h_{2}^{2} - h_{3}^{2}}}}{2 \\sqrt{- h_{1}^{2} - h_{2}^{2} - h_{3}^{2}}} - \\frac{h_{1} e^{- \\sqrt{- h_{1}^{2} - h_{2}^{2} - h_{3}^{2}}}}{2 \\sqrt{- h_{1}^{2} - h_{2}^{2} - h_{3}^{2}}}\\\\\\frac{h_{2} e^{\\sqrt{- h_{1}^{2} - h_{2}^{2} - h_{3}^{2}}}}{2 \\sqrt{- h_{1}^{2} - h_{2}^{2} - h_{3}^{2}}} - \\frac{h_{2} e^{- \\sqrt{- h_{1}^{2} - h_{2}^{2} - h_{3}^{2}}}}{2 \\sqrt{- h_{1}^{2} - h_{2}^{2} - h_{3}^{2}}}\\\\\\frac{h_{3} e^{\\sqrt{- h_{1}^{2} - h_{2}^{2} - h_{3}^{2}}}}{2 \\sqrt{- h_{1}^{2} - h_{2}^{2} - h_{3}^{2}}} - \\frac{h_{3} e^{- \\sqrt{- h_{1}^{2} - h_{2}^{2} - h_{3}^{2}}}}{2 \\sqrt{- h_{1}^{2} - h_{2}^{2} - h_{3}^{2}}}\\\\\\frac{e^{\\sqrt{- h_{1}^{2} - h_{2}^{2} - h_{3}^{2}}}}{2} + \\frac{e^{- \\sqrt{- h_{1}^{2} - h_{2}^{2} - h_{3}^{2}}}}{2}\\end{matrix}\\right]$"
      ],
      "text/plain": [
       "⎡       ___________________           ___________________⎤\n",
       "⎢      ╱     2     2     2           ╱     2     2     2 ⎥\n",
       "⎢    ╲╱  - h₁  - h₂  - h₃         -╲╱  - h₁  - h₂  - h₃  ⎥\n",
       "⎢h₁⋅ℯ                         h₁⋅ℯ                       ⎥\n",
       "⎢────────────────────────── - ───────────────────────────⎥\n",
       "⎢      ___________________           ___________________ ⎥\n",
       "⎢     ╱     2     2     2           ╱     2     2     2  ⎥\n",
       "⎢ 2⋅╲╱  - h₁  - h₂  - h₃        2⋅╲╱  - h₁  - h₂  - h₃   ⎥\n",
       "⎢                                                        ⎥\n",
       "⎢       ___________________           ___________________⎥\n",
       "⎢      ╱     2     2     2           ╱     2     2     2 ⎥\n",
       "⎢    ╲╱  - h₁  - h₂  - h₃         -╲╱  - h₁  - h₂  - h₃  ⎥\n",
       "⎢h₂⋅ℯ                         h₂⋅ℯ                       ⎥\n",
       "⎢────────────────────────── - ───────────────────────────⎥\n",
       "⎢      ___________________           ___________________ ⎥\n",
       "⎢     ╱     2     2     2           ╱     2     2     2  ⎥\n",
       "⎢ 2⋅╲╱  - h₁  - h₂  - h₃        2⋅╲╱  - h₁  - h₂  - h₃   ⎥\n",
       "⎢                                                        ⎥\n",
       "⎢       ___________________           ___________________⎥\n",
       "⎢      ╱     2     2     2           ╱     2     2     2 ⎥\n",
       "⎢    ╲╱  - h₁  - h₂  - h₃         -╲╱  - h₁  - h₂  - h₃  ⎥\n",
       "⎢h₃⋅ℯ                         h₃⋅ℯ                       ⎥\n",
       "⎢────────────────────────── - ───────────────────────────⎥\n",
       "⎢      ___________________           ___________________ ⎥\n",
       "⎢     ╱     2     2     2           ╱     2     2     2  ⎥\n",
       "⎢ 2⋅╲╱  - h₁  - h₂  - h₃        2⋅╲╱  - h₁  - h₂  - h₃   ⎥\n",
       "⎢                                                        ⎥\n",
       "⎢       ___________________        ___________________   ⎥\n",
       "⎢      ╱     2     2     2        ╱     2     2     2    ⎥\n",
       "⎢    ╲╱  - h₁  - h₂  - h₃      -╲╱  - h₁  - h₂  - h₃     ⎥\n",
       "⎢   ℯ                         ℯ                          ⎥\n",
       "⎢   ─────────────────────── + ────────────────────────   ⎥\n",
       "⎣              2                         2               ⎦"
      ]
     },
     "execution_count": 62,
     "metadata": {},
     "output_type": "execute_result"
    }
   ],
   "source": [
    "exp(Y)*s"
   ]
  },
  {
   "cell_type": "code",
   "execution_count": 61,
   "metadata": {},
   "outputs": [
    {
     "data": {
      "text/latex": [
       "$\\displaystyle \\left[\\begin{matrix}\\frac{h_{1} \\sinh{\\left(\\sqrt{- h_{1}^{2} - h_{2}^{2} - h_{3}^{2}} \\right)}}{\\sqrt{- h_{1}^{2} - h_{2}^{2} - h_{3}^{2}}}\\\\\\frac{h_{2} \\sinh{\\left(\\sqrt{- h_{1}^{2} - h_{2}^{2} - h_{3}^{2}} \\right)}}{\\sqrt{- h_{1}^{2} - h_{2}^{2} - h_{3}^{2}}}\\\\\\frac{h_{3} \\sinh{\\left(\\sqrt{- h_{1}^{2} - h_{2}^{2} - h_{3}^{2}} \\right)}}{\\sqrt{- h_{1}^{2} - h_{2}^{2} - h_{3}^{2}}}\\\\\\cosh{\\left(\\sqrt{- h_{1}^{2} - h_{2}^{2} - h_{3}^{2}} \\right)}\\end{matrix}\\right]$"
      ],
      "text/plain": [
       "⎡       ⎛   ___________________⎞⎤\n",
       "⎢       ⎜  ╱     2     2     2 ⎟⎥\n",
       "⎢h₁⋅sinh⎝╲╱  - h₁  - h₂  - h₃  ⎠⎥\n",
       "⎢───────────────────────────────⎥\n",
       "⎢        ___________________    ⎥\n",
       "⎢       ╱     2     2     2     ⎥\n",
       "⎢     ╲╱  - h₁  - h₂  - h₃      ⎥\n",
       "⎢                               ⎥\n",
       "⎢       ⎛   ___________________⎞⎥\n",
       "⎢       ⎜  ╱     2     2     2 ⎟⎥\n",
       "⎢h₂⋅sinh⎝╲╱  - h₁  - h₂  - h₃  ⎠⎥\n",
       "⎢───────────────────────────────⎥\n",
       "⎢        ___________________    ⎥\n",
       "⎢       ╱     2     2     2     ⎥\n",
       "⎢     ╲╱  - h₁  - h₂  - h₃      ⎥\n",
       "⎢                               ⎥\n",
       "⎢       ⎛   ___________________⎞⎥\n",
       "⎢       ⎜  ╱     2     2     2 ⎟⎥\n",
       "⎢h₃⋅sinh⎝╲╱  - h₁  - h₂  - h₃  ⎠⎥\n",
       "⎢───────────────────────────────⎥\n",
       "⎢        ___________________    ⎥\n",
       "⎢       ╱     2     2     2     ⎥\n",
       "⎢     ╲╱  - h₁  - h₂  - h₃      ⎥\n",
       "⎢                               ⎥\n",
       "⎢     ⎛   ___________________⎞  ⎥\n",
       "⎢     ⎜  ╱     2     2     2 ⎟  ⎥\n",
       "⎣ cosh⎝╲╱  - h₁  - h₂  - h₃  ⎠  ⎦"
      ]
     },
     "execution_count": 61,
     "metadata": {},
     "output_type": "execute_result"
    }
   ],
   "source": [
    "simplify(exp(Y)*s)"
   ]
  },
  {
   "cell_type": "code",
   "execution_count": null,
   "metadata": {},
   "outputs": [],
   "source": []
  }
 ],
 "metadata": {
  "kernelspec": {
   "display_name": "Python 3",
   "language": "python",
   "name": "python3"
  },
  "language_info": {
   "codemirror_mode": {
    "name": "ipython",
    "version": 3
   },
   "file_extension": ".py",
   "mimetype": "text/x-python",
   "name": "python",
   "nbconvert_exporter": "python",
   "pygments_lexer": "ipython3",
   "version": "3.9.12"
  },
  "orig_nbformat": 4
 },
 "nbformat": 4,
 "nbformat_minor": 2
}
